{
 "cells": [
  {
   "cell_type": "markdown",
   "id": "a87f5d47-7b25-43a8-b43a-e9b273a59163",
   "metadata": {},
   "source": [
    "# Data Science Tools and Ecosystem"
   ]
  },
  {
   "cell_type": "markdown",
   "id": "92e91c27-6809-4a4c-8519-4dcaa013c9bf",
   "metadata": {},
   "source": [
    "In this notebook, Data Science tools and Ecosystem are summarized"
   ]
  },
  {
   "cell_type": "markdown",
   "id": "da07c8a4-15a4-4321-8a02-01ef355e32eb",
   "metadata": {},
   "source": [
    "Some of the popular languages that Data Scientists use are:\n",
    "1. Python\n",
    "2. R\n",
    "3. Julia"
   ]
  },
  {
   "cell_type": "markdown",
   "id": "e1465d6e-9e54-4f11-97cc-0a294b4b01c2",
   "metadata": {},
   "source": [
    "Some of the commonly used libraries used by Data Scientists include:\n",
    "1. NumPy\n",
    "2. Pandas\n",
    "3. Matplotlib\n",
    "4. Seaborn\n",
    "5. Plotly"
   ]
  },
  {
   "cell_type": "markdown",
   "id": "d1e726c7-77d7-4f91-bbd0-d89307b61708",
   "metadata": {},
   "source": [
    "|Data Science Tools|\n",
    "|------------------|\n",
    "|Weka|\n",
    "|Hadoop|\n",
    "|TensorFlow|"
   ]
  },
  {
   "cell_type": "markdown",
   "id": "73cd2451-6131-47ce-9a84-78d3a84225c8",
   "metadata": {},
   "source": [
    "### Below are a few examples of evaluating arithmetic expressions in Python."
   ]
  },
  {
   "cell_type": "code",
   "execution_count": 2,
   "id": "708bfb11-478b-4b87-a071-0777bc0cbcb2",
   "metadata": {},
   "outputs": [
    {
     "data": {
      "text/plain": [
       "17"
      ]
     },
     "execution_count": 2,
     "metadata": {},
     "output_type": "execute_result"
    }
   ],
   "source": [
    "#This a simple arithmetic expression to multiply then add integers.\n",
    "(3*4)+5"
   ]
  },
  {
   "cell_type": "code",
   "execution_count": null,
   "id": "39dcb921-5162-4d8d-a633-a7a721b30f6a",
   "metadata": {},
   "outputs": [],
   "source": [
    "#This will convert 200 minutes to hours by diving by 60.\n",
    "200/60"
   ]
  },
  {
   "cell_type": "markdown",
   "id": "ca0f7903-34df-4a4c-8ff6-516a70ee0b05",
   "metadata": {},
   "source": [
    " **Objectives:** \n",
    "+ popular languages for Data Science\n",
    "+ Data Science tools\n",
    "+ commonly used libraries"
   ]
  },
  {
   "cell_type": "markdown",
   "id": "34d476bb-1a5c-4edd-b30d-17510855f31e",
   "metadata": {},
   "source": [
    "## Author\n",
    "Jeremy Knutson"
   ]
  },
  {
   "cell_type": "code",
   "execution_count": null,
   "id": "0315a679-3ec7-45e2-940c-fb122c9fc435",
   "metadata": {},
   "outputs": [],
   "source": []
  }
 ],
 "metadata": {
  "kernelspec": {
   "display_name": "Python 3 (ipykernel)",
   "language": "python",
   "name": "python3"
  },
  "language_info": {
   "codemirror_mode": {
    "name": "ipython",
    "version": 3
   },
   "file_extension": ".py",
   "mimetype": "text/x-python",
   "name": "python",
   "nbconvert_exporter": "python",
   "pygments_lexer": "ipython3",
   "version": "3.12.8"
  }
 },
 "nbformat": 4,
 "nbformat_minor": 5
}
